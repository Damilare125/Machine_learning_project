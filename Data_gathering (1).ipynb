{
  "nbformat": 4,
  "nbformat_minor": 0,
  "metadata": {
    "colab": {
      "provenance": []
    },
    "kernelspec": {
      "name": "python3",
      "display_name": "Python 3"
    },
    "language_info": {
      "name": "python"
    }
  },
  "cells": [
    {
      "cell_type": "markdown",
      "source": [
        "##DATA GATHERING\n",
        "**This is the process of getting a dataset for a project work.**\n",
        "\n",
        "I generated a dataset in this notebook for the purpose of a project work using the faker library in python."
      ],
      "metadata": {
        "id": "OFSv0eQFU9ex"
      }
    },
    {
      "cell_type": "markdown",
      "source": [
        "**Below I'm installing the faker library.**"
      ],
      "metadata": {
        "id": "u4Gpz--rW5Cq"
      }
    },
    {
      "cell_type": "code",
      "execution_count": 1,
      "metadata": {
        "colab": {
          "base_uri": "https://localhost:8080/"
        },
        "id": "apArVR1iDzxb",
        "outputId": "6b3ed454-29bb-4445-9184-76b59b4a50be"
      },
      "outputs": [
        {
          "output_type": "stream",
          "name": "stdout",
          "text": [
            "Looking in indexes: https://pypi.org/simple, https://us-python.pkg.dev/colab-wheels/public/simple/\n",
            "Requirement already satisfied: Faker in /usr/local/lib/python3.10/dist-packages (18.9.0)\n",
            "Requirement already satisfied: python-dateutil>=2.4 in /usr/local/lib/python3.10/dist-packages (from Faker) (2.8.2)\n",
            "Requirement already satisfied: six>=1.5 in /usr/local/lib/python3.10/dist-packages (from python-dateutil>=2.4->Faker) (1.16.0)\n"
          ]
        }
      ],
      "source": [
        "# I'm installing the faker library using pip.\n",
        "!pip install Faker"
      ]
    },
    {
      "cell_type": "markdown",
      "source": [
        "**I will be importing the necessary modules needed to generate the data.**"
      ],
      "metadata": {
        "id": "xI-CKmx2XmNJ"
      }
    },
    {
      "cell_type": "code",
      "source": [
        "# Importing the necessary modules\n",
        "from faker import Faker \n",
        "import csv\n",
        "import pandas as pd"
      ],
      "metadata": {
        "id": "xnuuJuo9EcKg"
      },
      "execution_count": 2,
      "outputs": []
    },
    {
      "cell_type": "markdown",
      "source": [
        "**I'll be defining the faker library as fake for easy use**"
      ],
      "metadata": {
        "id": "bR-Z7_U5YVwf"
      }
    },
    {
      "cell_type": "code",
      "source": [
        "# Defining faker library as fake\n",
        "fake = Faker()"
      ],
      "metadata": {
        "id": "Nn-tV5igExQV"
      },
      "execution_count": 3,
      "outputs": []
    },
    {
      "cell_type": "markdown",
      "source": [
        "**Below I'll be writing the code to generate the dataset and I'll be defining the behavior of the datasets.**"
      ],
      "metadata": {
        "id": "_I4C3-mGZpw6"
      }
    },
    {
      "cell_type": "code",
      "source": [
        "# Generating the dataset and naming it as meal data.\n",
        "with open(\"meal_data.csv\", \"w\", newline= \"\") as file:\n",
        "  writer = csv.writer(file)\n",
        "\n",
        "# Defining the row.\n",
        "  writer.writerow(\n",
        "      [\n",
        "      \"Customer_id\", \"Meal_id\", \"Num_orders\", \"Vendor\", \"Gender\", \"Ratings\", \"Cuisine\", \"Beverages\", \"Order_history\", \"Price\", \"Location\"\n",
        "      ]\n",
        "      )\n",
        "  \n",
        "# Defining the range and column of the dataset.\n",
        "  for _ in range(100000):\n",
        "    Customer_id = fake.uuid4()\n",
        "    Meal_id = fake.random_int(min=1, max=500)\n",
        "    Num_orders = fake.random_int(min=1, max=50)\n",
        "    Vendor = fake.random_element([\"Shiro\", \"Hard Rock\", \"Ocean Basket\", \"R.S.V.P.\", \"Izanagi\"])\n",
        "    Gender = fake.random_element([\"Male\", \"Female\"])\n",
        "    Ratings = fake.random_int(min=1, max=5)\n",
        "    Cuisine = fake.random_element([\"Staple Food\", \"Soups / Stews\", \"Salad / Side Dishes\", \"Meat\", \"Street Food / Snacks\"])\n",
        "    Beverages = fake.random_element([\"Water\", \"Milk\", \"Carbonated drinks\", \"Juice\", \"Wine\"])\n",
        "    Order_history = fake.random_int(min=1, max=50)\n",
        "    Price = fake.random_int(min=500, max=10000)\n",
        "    Location = fake.random_element([\"Island\", \"Mainland\"])\n",
        "\n",
        "    writer.writerow([\n",
        "        Customer_id, Meal_id, Num_orders, Vendor, Gender, Ratings, Cuisine, Beverages, Order_history, Price, Location\n",
        "    ])"
      ],
      "metadata": {
        "id": "S9_WHDQcFY01"
      },
      "execution_count": 4,
      "outputs": []
    },
    {
      "cell_type": "markdown",
      "source": [
        "**I want to define the generated csv dataset and put it into a pandas dataframe**"
      ],
      "metadata": {
        "id": "9c_JsV2Sc_Tb"
      }
    },
    {
      "cell_type": "code",
      "source": [
        "# Defining the generated csv into pandas\n",
        "df = pd.read_csv(\"meal_data.csv\")\n",
        "\n",
        "# I'm checking the shape of the dataset\n",
        "print(f\"Shape of data: {df.shape}\\n\")\n",
        "\n",
        "# I'm viewing the first five rows\n",
        "df.head()"
      ],
      "metadata": {
        "id": "nGnW6Q2FSTM-",
        "colab": {
          "base_uri": "https://localhost:8080/",
          "height": 371
        },
        "outputId": "b3c50d78-b292-4089-fb3a-d4e02763ec05"
      },
      "execution_count": 5,
      "outputs": [
        {
          "output_type": "stream",
          "name": "stdout",
          "text": [
            "Shape of data: (100000, 11)\n",
            "\n"
          ]
        },
        {
          "output_type": "execute_result",
          "data": {
            "text/plain": [
              "                            Customer_id  Meal_id  Num_orders        Vendor  \\\n",
              "0  0948f87d-5b07-417d-9460-f575f5bf4499      174          15  Ocean Basket   \n",
              "1  7ac1b983-ec2e-46d2-8942-1dca80aa9187      367          33  Ocean Basket   \n",
              "2  1cd13261-e4ac-451b-bbd9-8e7839e1152b      294          50  Ocean Basket   \n",
              "3  8f0130ae-3c3d-45d7-a890-a409053e35a2      320          13       Izanagi   \n",
              "4  824f5e51-e1c8-425d-94d5-0bbbae5e71b3       52           2      R.S.V.P.   \n",
              "\n",
              "   Gender  Ratings               Cuisine          Beverages  Order_history  \\\n",
              "0  Female        3         Soups / Stews               Wine             10   \n",
              "1    Male        4         Soups / Stews               Wine             46   \n",
              "2  Female        5   Salad / Side Dishes  Carbonated drinks             30   \n",
              "3    Male        2         Soups / Stews              Juice             50   \n",
              "4  Female        2  Street Food / Snacks              Water             19   \n",
              "\n",
              "   Price  Location  \n",
              "0   9162    Island  \n",
              "1   2479    Island  \n",
              "2   4026  Mainland  \n",
              "3   2333    Island  \n",
              "4   8610  Mainland  "
            ],
            "text/html": [
              "\n",
              "  <div id=\"df-0593468a-e95e-48df-a70b-6413a2e51f45\">\n",
              "    <div class=\"colab-df-container\">\n",
              "      <div>\n",
              "<style scoped>\n",
              "    .dataframe tbody tr th:only-of-type {\n",
              "        vertical-align: middle;\n",
              "    }\n",
              "\n",
              "    .dataframe tbody tr th {\n",
              "        vertical-align: top;\n",
              "    }\n",
              "\n",
              "    .dataframe thead th {\n",
              "        text-align: right;\n",
              "    }\n",
              "</style>\n",
              "<table border=\"1\" class=\"dataframe\">\n",
              "  <thead>\n",
              "    <tr style=\"text-align: right;\">\n",
              "      <th></th>\n",
              "      <th>Customer_id</th>\n",
              "      <th>Meal_id</th>\n",
              "      <th>Num_orders</th>\n",
              "      <th>Vendor</th>\n",
              "      <th>Gender</th>\n",
              "      <th>Ratings</th>\n",
              "      <th>Cuisine</th>\n",
              "      <th>Beverages</th>\n",
              "      <th>Order_history</th>\n",
              "      <th>Price</th>\n",
              "      <th>Location</th>\n",
              "    </tr>\n",
              "  </thead>\n",
              "  <tbody>\n",
              "    <tr>\n",
              "      <th>0</th>\n",
              "      <td>0948f87d-5b07-417d-9460-f575f5bf4499</td>\n",
              "      <td>174</td>\n",
              "      <td>15</td>\n",
              "      <td>Ocean Basket</td>\n",
              "      <td>Female</td>\n",
              "      <td>3</td>\n",
              "      <td>Soups / Stews</td>\n",
              "      <td>Wine</td>\n",
              "      <td>10</td>\n",
              "      <td>9162</td>\n",
              "      <td>Island</td>\n",
              "    </tr>\n",
              "    <tr>\n",
              "      <th>1</th>\n",
              "      <td>7ac1b983-ec2e-46d2-8942-1dca80aa9187</td>\n",
              "      <td>367</td>\n",
              "      <td>33</td>\n",
              "      <td>Ocean Basket</td>\n",
              "      <td>Male</td>\n",
              "      <td>4</td>\n",
              "      <td>Soups / Stews</td>\n",
              "      <td>Wine</td>\n",
              "      <td>46</td>\n",
              "      <td>2479</td>\n",
              "      <td>Island</td>\n",
              "    </tr>\n",
              "    <tr>\n",
              "      <th>2</th>\n",
              "      <td>1cd13261-e4ac-451b-bbd9-8e7839e1152b</td>\n",
              "      <td>294</td>\n",
              "      <td>50</td>\n",
              "      <td>Ocean Basket</td>\n",
              "      <td>Female</td>\n",
              "      <td>5</td>\n",
              "      <td>Salad / Side Dishes</td>\n",
              "      <td>Carbonated drinks</td>\n",
              "      <td>30</td>\n",
              "      <td>4026</td>\n",
              "      <td>Mainland</td>\n",
              "    </tr>\n",
              "    <tr>\n",
              "      <th>3</th>\n",
              "      <td>8f0130ae-3c3d-45d7-a890-a409053e35a2</td>\n",
              "      <td>320</td>\n",
              "      <td>13</td>\n",
              "      <td>Izanagi</td>\n",
              "      <td>Male</td>\n",
              "      <td>2</td>\n",
              "      <td>Soups / Stews</td>\n",
              "      <td>Juice</td>\n",
              "      <td>50</td>\n",
              "      <td>2333</td>\n",
              "      <td>Island</td>\n",
              "    </tr>\n",
              "    <tr>\n",
              "      <th>4</th>\n",
              "      <td>824f5e51-e1c8-425d-94d5-0bbbae5e71b3</td>\n",
              "      <td>52</td>\n",
              "      <td>2</td>\n",
              "      <td>R.S.V.P.</td>\n",
              "      <td>Female</td>\n",
              "      <td>2</td>\n",
              "      <td>Street Food / Snacks</td>\n",
              "      <td>Water</td>\n",
              "      <td>19</td>\n",
              "      <td>8610</td>\n",
              "      <td>Mainland</td>\n",
              "    </tr>\n",
              "  </tbody>\n",
              "</table>\n",
              "</div>\n",
              "      <button class=\"colab-df-convert\" onclick=\"convertToInteractive('df-0593468a-e95e-48df-a70b-6413a2e51f45')\"\n",
              "              title=\"Convert this dataframe to an interactive table.\"\n",
              "              style=\"display:none;\">\n",
              "        \n",
              "  <svg xmlns=\"http://www.w3.org/2000/svg\" height=\"24px\"viewBox=\"0 0 24 24\"\n",
              "       width=\"24px\">\n",
              "    <path d=\"M0 0h24v24H0V0z\" fill=\"none\"/>\n",
              "    <path d=\"M18.56 5.44l.94 2.06.94-2.06 2.06-.94-2.06-.94-.94-2.06-.94 2.06-2.06.94zm-11 1L8.5 8.5l.94-2.06 2.06-.94-2.06-.94L8.5 2.5l-.94 2.06-2.06.94zm10 10l.94 2.06.94-2.06 2.06-.94-2.06-.94-.94-2.06-.94 2.06-2.06.94z\"/><path d=\"M17.41 7.96l-1.37-1.37c-.4-.4-.92-.59-1.43-.59-.52 0-1.04.2-1.43.59L10.3 9.45l-7.72 7.72c-.78.78-.78 2.05 0 2.83L4 21.41c.39.39.9.59 1.41.59.51 0 1.02-.2 1.41-.59l7.78-7.78 2.81-2.81c.8-.78.8-2.07 0-2.86zM5.41 20L4 18.59l7.72-7.72 1.47 1.35L5.41 20z\"/>\n",
              "  </svg>\n",
              "      </button>\n",
              "      \n",
              "  <style>\n",
              "    .colab-df-container {\n",
              "      display:flex;\n",
              "      flex-wrap:wrap;\n",
              "      gap: 12px;\n",
              "    }\n",
              "\n",
              "    .colab-df-convert {\n",
              "      background-color: #E8F0FE;\n",
              "      border: none;\n",
              "      border-radius: 50%;\n",
              "      cursor: pointer;\n",
              "      display: none;\n",
              "      fill: #1967D2;\n",
              "      height: 32px;\n",
              "      padding: 0 0 0 0;\n",
              "      width: 32px;\n",
              "    }\n",
              "\n",
              "    .colab-df-convert:hover {\n",
              "      background-color: #E2EBFA;\n",
              "      box-shadow: 0px 1px 2px rgba(60, 64, 67, 0.3), 0px 1px 3px 1px rgba(60, 64, 67, 0.15);\n",
              "      fill: #174EA6;\n",
              "    }\n",
              "\n",
              "    [theme=dark] .colab-df-convert {\n",
              "      background-color: #3B4455;\n",
              "      fill: #D2E3FC;\n",
              "    }\n",
              "\n",
              "    [theme=dark] .colab-df-convert:hover {\n",
              "      background-color: #434B5C;\n",
              "      box-shadow: 0px 1px 3px 1px rgba(0, 0, 0, 0.15);\n",
              "      filter: drop-shadow(0px 1px 2px rgba(0, 0, 0, 0.3));\n",
              "      fill: #FFFFFF;\n",
              "    }\n",
              "  </style>\n",
              "\n",
              "      <script>\n",
              "        const buttonEl =\n",
              "          document.querySelector('#df-0593468a-e95e-48df-a70b-6413a2e51f45 button.colab-df-convert');\n",
              "        buttonEl.style.display =\n",
              "          google.colab.kernel.accessAllowed ? 'block' : 'none';\n",
              "\n",
              "        async function convertToInteractive(key) {\n",
              "          const element = document.querySelector('#df-0593468a-e95e-48df-a70b-6413a2e51f45');\n",
              "          const dataTable =\n",
              "            await google.colab.kernel.invokeFunction('convertToInteractive',\n",
              "                                                     [key], {});\n",
              "          if (!dataTable) return;\n",
              "\n",
              "          const docLinkHtml = 'Like what you see? Visit the ' +\n",
              "            '<a target=\"_blank\" href=https://colab.research.google.com/notebooks/data_table.ipynb>data table notebook</a>'\n",
              "            + ' to learn more about interactive tables.';\n",
              "          element.innerHTML = '';\n",
              "          dataTable['output_type'] = 'display_data';\n",
              "          await google.colab.output.renderOutput(dataTable, element);\n",
              "          const docLink = document.createElement('div');\n",
              "          docLink.innerHTML = docLinkHtml;\n",
              "          element.appendChild(docLink);\n",
              "        }\n",
              "      </script>\n",
              "    </div>\n",
              "  </div>\n",
              "  "
            ]
          },
          "metadata": {},
          "execution_count": 5
        }
      ]
    },
    {
      "cell_type": "markdown",
      "source": [
        "**Above in the dataset there are 100,000 rows and 11 columns in the dataframe.**"
      ],
      "metadata": {
        "id": "XrBzUjgUimJT"
      }
    },
    {
      "cell_type": "code",
      "source": [],
      "metadata": {
        "id": "I4SYmTZSSqmm"
      },
      "execution_count": 5,
      "outputs": []
    }
  ]
}